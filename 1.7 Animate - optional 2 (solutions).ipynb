{
 "cells": [
  {
   "cell_type": "markdown",
   "metadata": {},
   "source": [
    "# <img src=images/continuum_analytics_b&w.png align=\"left\" width=\"15%\" style=\"margin-right:15%\">"
   ]
  },
  {
   "cell_type": "markdown",
   "metadata": {},
   "source": [
    "<h1 align='center'>Bokeh Tutorial</h1>"
   ]
  },
  {
   "cell_type": "markdown",
   "metadata": {},
   "source": [
    "## 1.7 Animate (optional 2)"
   ]
  },
  {
   "cell_type": "markdown",
   "metadata": {},
   "source": [
    "**Exercise: Animate the timeseries plot**"
   ]
  },
  {
   "cell_type": "code",
   "execution_count": 1,
   "metadata": {
    "collapsed": false
   },
   "outputs": [
    {
     "ename": "ImportError",
     "evalue": "cannot import name cursession",
     "output_type": "error",
     "traceback": [
      "\u001b[1;31m---------------------------------------------------------------------------\u001b[0m",
      "\u001b[1;31mImportError\u001b[0m                               Traceback (most recent call last)",
      "\u001b[1;32m<ipython-input-1-ab3832f52769>\u001b[0m in \u001b[0;36m<module>\u001b[1;34m()\u001b[0m\n\u001b[0;32m      6\u001b[0m \u001b[1;32mimport\u001b[0m \u001b[0mpandas\u001b[0m \u001b[1;32mas\u001b[0m \u001b[0mpd\u001b[0m\u001b[1;33m\u001b[0m\u001b[0m\n\u001b[0;32m      7\u001b[0m \u001b[1;33m\u001b[0m\u001b[0m\n\u001b[1;32m----> 8\u001b[1;33m \u001b[1;32mfrom\u001b[0m \u001b[0mbokeh\u001b[0m\u001b[1;33m.\u001b[0m\u001b[0mplotting\u001b[0m \u001b[1;32mimport\u001b[0m \u001b[0mvplot\u001b[0m\u001b[1;33m,\u001b[0m \u001b[0mhplot\u001b[0m\u001b[1;33m,\u001b[0m \u001b[0mcursession\u001b[0m\u001b[1;33m,\u001b[0m \u001b[0moutput_server\u001b[0m\u001b[1;33m,\u001b[0m \u001b[0mshow\u001b[0m\u001b[1;33m\u001b[0m\u001b[0m\n\u001b[0m\u001b[0;32m      9\u001b[0m \u001b[1;33m\u001b[0m\u001b[0m\n\u001b[0;32m     10\u001b[0m \u001b[1;32mfrom\u001b[0m \u001b[0mviz\u001b[0m \u001b[1;32mimport\u001b[0m \u001b[0mclimate_map\u001b[0m\u001b[1;33m,\u001b[0m \u001b[0mtimeseries\u001b[0m\u001b[1;33m,\u001b[0m \u001b[0mlegend\u001b[0m\u001b[1;33m,\u001b[0m \u001b[0mget_slice\u001b[0m\u001b[1;33m\u001b[0m\u001b[0m\n",
      "\u001b[1;31mImportError\u001b[0m: cannot import name cursession"
     ]
    }
   ],
   "source": [
    "# Imports\n",
    "import datetime\n",
    "\n",
    "import numpy as np\n",
    "import netCDF4\n",
    "import pandas as pd\n",
    "\n",
    "from bokeh.plotting import vplot, hplot, cursession, output_server, show\n",
    "\n",
    "from viz import climate_map, timeseries, legend, get_slice  "
   ]
  },
  {
   "cell_type": "code",
   "execution_count": null,
   "metadata": {
    "collapsed": true
   },
   "outputs": [],
   "source": [
    "# Data\n",
    "data = netCDF4.Dataset('data/Land_and_Ocean_LatLong1.nc')\n",
    "t = data.variables['temperature']\n",
    "df = pd.read_csv('data/Land_Ocean_Monthly_Anomaly_Average.csv', parse_dates=[0])"
   ]
  },
  {
   "cell_type": "code",
   "execution_count": null,
   "metadata": {
    "collapsed": false
   },
   "outputs": [],
   "source": [
    "# Output option\n",
    "output_server(\"climate\")"
   ]
  },
  {
   "cell_type": "code",
   "execution_count": null,
   "metadata": {
    "collapsed": false
   },
   "outputs": [],
   "source": [
    "from bokeh.plotting import figure\n",
    "\n",
    "# Data \n",
    "year = 1850\n",
    "month = 1\n",
    "\n",
    "years = [str(x) for x in np.arange(1850, 2015, 1)]\n",
    "\n",
    "months = [str(x) for x in np.arange(1, 13, 1)]\n",
    "months_str = ['January', 'February', 'March', 'April', 'May', 'June', 'July', 'August', 'September', 'October', 'November', 'December']\n",
    "\n",
    "month_str = months_str[month-1]\n",
    "\n",
    "date = datetime.date(year, month, 1)\n",
    "df['moving_average'] = pd.rolling_mean(df['anomaly'], 12)\n",
    "df = df.fillna(0)\n",
    "\n",
    "# New text Plot\n",
    "title = figure(width=1200, height=100, x_range=(0, 1200), y_range=(0, 100), toolbar_location=None,\n",
    "        x_axis_type=None, y_axis_type=None, outline_line_color=\"#FFFFFF\", tools=\"\", min_border=0)\n",
    "\n",
    "title.text(x=500, y=5, text=[month_str], text_font_size='36pt', text_color='black', name=\"month\", text_font=\"Georgia\")\n",
    "title.text(x=350, y=5, text=[str(year)], text_font_size='36pt', text_color='black', name=\"year\",text_font=\"Georgia\")"
   ]
  },
  {
   "cell_type": "code",
   "execution_count": 5,
   "metadata": {
    "collapsed": false
   },
   "outputs": [],
   "source": [
    "# Plots\n",
    "climate_map = climate_map()\n",
    "timeseries = timeseries()\n",
    "legend = legend()"
   ]
  },
  {
   "cell_type": "code",
   "execution_count": 6,
   "metadata": {
    "collapsed": false
   },
   "outputs": [
    {
     "data": {
      "text/plain": [
       "<bokeh.plotting.Figure at 0x1006349d0>"
      ]
     },
     "execution_count": 6,
     "metadata": {},
     "output_type": "execute_result"
    }
   ],
   "source": [
    "# New circle in timeseries plot\n",
    "timeseries.circle(x=[date], y=[df[df.datetime == date].moving_average], size=8, name=\"circle\")"
   ]
  },
  {
   "cell_type": "code",
   "execution_count": 7,
   "metadata": {
    "collapsed": true
   },
   "outputs": [],
   "source": [
    "# Create layout\n",
    "map_legend = hplot(climate_map, legend)\n",
    "layout = vplot(title, map_legend, timeseries)"
   ]
  },
  {
   "cell_type": "code",
   "execution_count": 8,
   "metadata": {
    "collapsed": true
   },
   "outputs": [],
   "source": [
    "# Show\n",
    "show(layout)"
   ]
  },
  {
   "cell_type": "code",
   "execution_count": 9,
   "metadata": {
    "collapsed": false
   },
   "outputs": [],
   "source": [
    "# Select data source for climate_map and month and year\n",
    "renderer = climate_map.select(dict(name=\"image\"))\n",
    "ds = renderer[0].data_source\n",
    "\n",
    "month_renderer = title.select(dict(name=\"month\"))\n",
    "month_ds = month_renderer[0].data_source\n",
    "\n",
    "year_renderer = title.select(dict(name=\"year\"))\n",
    "year_ds = year_renderer[0].data_source\n",
    "\n",
    "# Select data source for timeseries data\n",
    "timeseries_renderer = timeseries.select(dict(name=\"circle\"))\n",
    "timeseries_ds = timeseries_renderer[0].data_source"
   ]
  },
  {
   "cell_type": "code",
   "execution_count": null,
   "metadata": {
    "collapsed": false,
    "scrolled": true
   },
   "outputs": [],
   "source": [
    "# Modify the previous loop: updates the image, month and year data sources\n",
    "import time\n",
    "\n",
    "while True:\n",
    "    for year_index in np.arange(2000, 2015, 1):\n",
    "        year_ds.data[\"text\"] = [str(year_index)]\n",
    "        for month_index in np.arange(1, 13, 1):\n",
    "            month_ds.data[\"text\"] = [months_str[month_index-1]]\n",
    "            image = get_slice(t, year_index, month_index)\n",
    "            date = datetime.date(year_index, month_index, 1)\n",
    "            timeseries_ds.data[\"x\"] = [date]\n",
    "            timeseries_ds.data[\"y\"] = [df[df.datetime == date].moving_average]\n",
    "            ds.data[\"image\"] = [image]\n",
    "            cursession().store_objects(ds, year_ds, month_ds, timeseries_ds)\n",
    "            time.sleep(0.2)"
   ]
  }
 ],
 "metadata": {
  "kernelspec": {
   "display_name": "Python [conda env:py2]",
   "language": "python",
   "name": "conda-env-py2-py"
  },
  "language_info": {
   "codemirror_mode": {
    "name": "ipython",
    "version": 2
   },
   "file_extension": ".py",
   "mimetype": "text/x-python",
   "name": "python",
   "nbconvert_exporter": "python",
   "pygments_lexer": "ipython2",
   "version": "2.7.12"
  }
 },
 "nbformat": 4,
 "nbformat_minor": 0
}
