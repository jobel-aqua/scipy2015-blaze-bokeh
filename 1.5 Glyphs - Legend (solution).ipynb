{
 "cells": [
  {
   "cell_type": "markdown",
   "metadata": {},
   "source": [
    "# <img src=images/continuum_analytics_b&w.png align=\"left\" width=\"15%\" style=\"margin-right:15%\">"
   ]
  },
  {
   "cell_type": "markdown",
   "metadata": {},
   "source": [
    "<h1 align='center'>Bokeh Tutorial</h1>"
   ]
  },
  {
   "cell_type": "markdown",
   "metadata": {},
   "source": [
    "## 1.5 Glyphs - Legend"
   ]
  },
  {
   "cell_type": "markdown",
   "metadata": {},
   "source": [
    "**Exercise: Create a legend plot for the temperature map with the Glyph interface**\n",
    "\n",
    "Tips:\n",
    "\n",
    "- Glyphs: Text, Rect"
   ]
  },
  {
   "cell_type": "code",
   "execution_count": 1,
   "metadata": {
    "collapsed": true
   },
   "outputs": [],
   "source": [
    "# Imports\n",
    "from bokeh.models.glyphs import Text, Rect\n",
    "from bokeh.models import Plot, Range1d\n",
    "from bokeh.palettes import RdBu11\n",
    "from bokeh.plotting import output_notebook, show"
   ]
  },
  {
   "cell_type": "code",
   "execution_count": 2,
   "metadata": {
    "collapsed": false
   },
   "outputs": [
    {
     "data": {
      "text/html": [
       "\n",
       "    <div class=\"bk-root\">\n",
       "        <a href=\"http://bokeh.pydata.org\" target=\"_blank\" class=\"bk-logo bk-logo-small bk-logo-notebook\"></a>\n",
       "        <span id=\"185405d9-895d-4590-bfd3-ad77de8c9c1d\">Loading BokehJS ...</span>\n",
       "    </div>"
      ]
     },
     "metadata": {},
     "output_type": "display_data"
    },
    {
     "data": {
      "application/javascript": [
       "\n",
       "(function(global) {\n",
       "  function now() {\n",
       "    return new Date();\n",
       "  }\n",
       "\n",
       "  if (typeof (window._bokeh_onload_callbacks) === \"undefined\") {\n",
       "    window._bokeh_onload_callbacks = [];\n",
       "  }\n",
       "\n",
       "  function run_callbacks() {\n",
       "    window._bokeh_onload_callbacks.forEach(function(callback) { callback() });\n",
       "    delete window._bokeh_onload_callbacks\n",
       "    console.info(\"Bokeh: all callbacks have finished\");\n",
       "  }\n",
       "\n",
       "  function load_libs(js_urls, callback) {\n",
       "    window._bokeh_onload_callbacks.push(callback);\n",
       "    if (window._bokeh_is_loading > 0) {\n",
       "      console.log(\"Bokeh: BokehJS is being loaded, scheduling callback at\", now());\n",
       "      return null;\n",
       "    }\n",
       "    if (js_urls == null || js_urls.length === 0) {\n",
       "      run_callbacks();\n",
       "      return null;\n",
       "    }\n",
       "    console.log(\"Bokeh: BokehJS not loaded, scheduling load and callback at\", now());\n",
       "    window._bokeh_is_loading = js_urls.length;\n",
       "    for (var i = 0; i < js_urls.length; i++) {\n",
       "      var url = js_urls[i];\n",
       "      var s = document.createElement('script');\n",
       "      s.src = url;\n",
       "      s.async = false;\n",
       "      s.onreadystatechange = s.onload = function() {\n",
       "        window._bokeh_is_loading--;\n",
       "        if (window._bokeh_is_loading === 0) {\n",
       "          console.log(\"Bokeh: all BokehJS libraries loaded\");\n",
       "          run_callbacks()\n",
       "        }\n",
       "      };\n",
       "      s.onerror = function() {\n",
       "        console.warn(\"failed to load library \" + url);\n",
       "      };\n",
       "      console.log(\"Bokeh: injecting script tag for BokehJS library: \", url);\n",
       "      document.getElementsByTagName(\"head\")[0].appendChild(s);\n",
       "    }\n",
       "  };\n",
       "\n",
       "  var js_urls = ['https://cdn.pydata.org/bokeh/release/bokeh-0.12.0.min.js', 'https://cdn.pydata.org/bokeh/release/bokeh-widgets-0.12.0.min.js', 'https://cdn.pydata.org/bokeh/release/bokeh-compiler-0.12.0.min.js'];\n",
       "\n",
       "  var inline_js = [\n",
       "    function(Bokeh) {\n",
       "      Bokeh.set_log_level(\"info\");\n",
       "    },\n",
       "    \n",
       "    function(Bokeh) {\n",
       "      Bokeh.$(\"#185405d9-895d-4590-bfd3-ad77de8c9c1d\").text(\"BokehJS successfully loaded\");\n",
       "    },\n",
       "    function(Bokeh) {\n",
       "      console.log(\"Bokeh: injecting CSS: https://cdn.pydata.org/bokeh/release/bokeh-0.12.0.min.css\");\n",
       "      Bokeh.embed.inject_css(\"https://cdn.pydata.org/bokeh/release/bokeh-0.12.0.min.css\");\n",
       "      console.log(\"Bokeh: injecting CSS: https://cdn.pydata.org/bokeh/release/bokeh-widgets-0.12.0.min.css\");\n",
       "      Bokeh.embed.inject_css(\"https://cdn.pydata.org/bokeh/release/bokeh-widgets-0.12.0.min.css\");\n",
       "    }\n",
       "  ];\n",
       "\n",
       "  function run_inline_js() {\n",
       "    for (var i = 0; i < inline_js.length; i++) {\n",
       "      inline_js[i](window.Bokeh);\n",
       "    }\n",
       "  }\n",
       "\n",
       "  if (window._bokeh_is_loading === 0) {\n",
       "    console.log(\"Bokeh: BokehJS loaded, going straight to plotting\");\n",
       "    run_inline_js();\n",
       "  } else {\n",
       "    load_libs(js_urls, function() {\n",
       "      console.log(\"Bokeh: BokehJS plotting callback run at\", now());\n",
       "      run_inline_js();\n",
       "    });\n",
       "  }\n",
       "}(this));"
      ]
     },
     "metadata": {},
     "output_type": "display_data"
    }
   ],
   "source": [
    "# Output option\n",
    "output_notebook()"
   ]
  },
  {
   "cell_type": "code",
   "execution_count": 3,
   "metadata": {
    "collapsed": true
   },
   "outputs": [],
   "source": [
    "# Set ranges\n",
    "xdr = Range1d(0, 100)\n",
    "ydr = Range1d(0, 500)"
   ]
  },
  {
   "cell_type": "code",
   "execution_count": 6,
   "metadata": {
    "collapsed": false
   },
   "outputs": [],
   "source": [
    "# Create plot\n",
    "plot = Plot(\n",
    "    x_range=xdr,\n",
    "    y_range=ydr,\n",
    "    title=\"\",\n",
    "    plot_width=100,\n",
    "    plot_height=500,\n",
    "    min_border=0,\n",
    "    toolbar_location=None,\n",
    "    outline_line_color=\"#FFFFFF\",\n",
    ")"
   ]
  },
  {
   "cell_type": "code",
   "execution_count": 7,
   "metadata": {
    "collapsed": true
   },
   "outputs": [],
   "source": [
    "# For each color in your palette, add a Rect glyph to the plot with the appropriate properties\n",
    "palette = RdBu11\n",
    "width = 40\n",
    "for i, color in enumerate(palette):\n",
    "    rect = Rect(\n",
    "        x=40, y=(width * (i + 1)),\n",
    "        width=width, height=40,\n",
    "        fill_color=color, line_color='black'\n",
    "    )\n",
    "    plot.add_glyph(rect)"
   ]
  },
  {
   "cell_type": "code",
   "execution_count": 8,
   "metadata": {
    "collapsed": false
   },
   "outputs": [
    {
     "data": {
      "text/plain": [
       "<bokeh.models.renderers.GlyphRenderer at 0x7f856eee0b50>"
      ]
     },
     "execution_count": 8,
     "metadata": {},
     "output_type": "execute_result"
    }
   ],
   "source": [
    "# Add text labels and add them to the plot\n",
    "minimum = Text(x=50, y=0, text=['-6 ºC'])\n",
    "plot.add_glyph(minimum)\n",
    "maximum = Text(x=50, y=460, text=['6 ºC'])\n",
    "plot.add_glyph(maximum)"
   ]
  },
  {
   "cell_type": "code",
   "execution_count": 9,
   "metadata": {
    "collapsed": false
   },
   "outputs": [
    {
     "data": {
      "text/html": [
       "\n",
       "\n",
       "    <div class=\"bk-root\">\n",
       "        <div class=\"plotdiv\" id=\"e612ed61-453d-4ed6-8cef-f1c4892d4c7c\"></div>\n",
       "    </div>\n",
       "<script type=\"text/javascript\">\n",
       "  \n",
       "  (function(global) {\n",
       "    function now() {\n",
       "      return new Date();\n",
       "    }\n",
       "  \n",
       "    if (typeof (window._bokeh_onload_callbacks) === \"undefined\") {\n",
       "      window._bokeh_onload_callbacks = [];\n",
       "    }\n",
       "  \n",
       "    function run_callbacks() {\n",
       "      window._bokeh_onload_callbacks.forEach(function(callback) { callback() });\n",
       "      delete window._bokeh_onload_callbacks\n",
       "      console.info(\"Bokeh: all callbacks have finished\");\n",
       "    }\n",
       "  \n",
       "    function load_libs(js_urls, callback) {\n",
       "      window._bokeh_onload_callbacks.push(callback);\n",
       "      if (window._bokeh_is_loading > 0) {\n",
       "        console.log(\"Bokeh: BokehJS is being loaded, scheduling callback at\", now());\n",
       "        return null;\n",
       "      }\n",
       "      if (js_urls == null || js_urls.length === 0) {\n",
       "        run_callbacks();\n",
       "        return null;\n",
       "      }\n",
       "      console.log(\"Bokeh: BokehJS not loaded, scheduling load and callback at\", now());\n",
       "      window._bokeh_is_loading = js_urls.length;\n",
       "      for (var i = 0; i < js_urls.length; i++) {\n",
       "        var url = js_urls[i];\n",
       "        var s = document.createElement('script');\n",
       "        s.src = url;\n",
       "        s.async = false;\n",
       "        s.onreadystatechange = s.onload = function() {\n",
       "          window._bokeh_is_loading--;\n",
       "          if (window._bokeh_is_loading === 0) {\n",
       "            console.log(\"Bokeh: all BokehJS libraries loaded\");\n",
       "            run_callbacks()\n",
       "          }\n",
       "        };\n",
       "        s.onerror = function() {\n",
       "          console.warn(\"failed to load library \" + url);\n",
       "        };\n",
       "        console.log(\"Bokeh: injecting script tag for BokehJS library: \", url);\n",
       "        document.getElementsByTagName(\"head\")[0].appendChild(s);\n",
       "      }\n",
       "    };var element = document.getElementById(\"e612ed61-453d-4ed6-8cef-f1c4892d4c7c\");\n",
       "    if (element == null) {\n",
       "      console.log(\"Bokeh: ERROR: autoload.js configured with elementid 'e612ed61-453d-4ed6-8cef-f1c4892d4c7c' but no matching script tag was found. \")\n",
       "      return false;\n",
       "    }\n",
       "  \n",
       "    var js_urls = [];\n",
       "  \n",
       "    var inline_js = [\n",
       "      function(Bokeh) {\n",
       "        Bokeh.$(function() {\n",
       "            var docs_json = {\"8e3511c2-9a70-40c4-a895-f11ecf49eb59\":{\"roots\":{\"references\":[{\"attributes\":{\"callback\":null},\"id\":\"d3969810-8c3b-45d1-9419-9b7cd644f685\",\"type\":\"ColumnDataSource\"},{\"attributes\":{\"callback\":null,\"end\":500},\"id\":\"5d3544cf-088b-4eca-8733-a0331e671e5a\",\"type\":\"Range1d\"},{\"attributes\":{\"callback\":null,\"end\":100},\"id\":\"e88fb19b-def5-4c10-93c2-92e2a6cee50d\",\"type\":\"Range1d\"},{\"attributes\":{\"callback\":null},\"id\":\"71bc1bda-4dad-4b90-84cd-147bb19db0a1\",\"type\":\"ColumnDataSource\"},{\"attributes\":{\"fill_color\":{\"value\":\"#b2182b\"},\"height\":{\"units\":\"data\",\"value\":40},\"width\":{\"units\":\"data\",\"value\":40},\"x\":{\"value\":40},\"y\":{\"value\":400}},\"id\":\"e0ed2f4b-5e18-4e49-89b0-0265385e4691\",\"type\":\"Rect\"},{\"attributes\":{\"data_source\":{\"id\":\"71bc1bda-4dad-4b90-84cd-147bb19db0a1\",\"type\":\"ColumnDataSource\"},\"glyph\":{\"id\":\"2f276a90-27d5-4a15-bd5b-7c10c70ea7d3\",\"type\":\"Rect\"},\"hover_glyph\":null,\"nonselection_glyph\":null,\"selection_glyph\":null},\"id\":\"21ab8198-a792-4836-bd1a-fe17a25bdb0a\",\"type\":\"GlyphRenderer\"},{\"attributes\":{},\"id\":\"bfac757f-0b62-48e1-b867-1216305dbff3\",\"type\":\"ToolEvents\"},{\"attributes\":{\"data_source\":{\"id\":\"0444ac6b-4418-4fda-a488-df149fcebd8f\",\"type\":\"ColumnDataSource\"},\"glyph\":{\"id\":\"0dd9cfb3-7e8d-4ca9-8609-6958e217712d\",\"type\":\"Rect\"},\"hover_glyph\":null,\"nonselection_glyph\":null,\"selection_glyph\":null},\"id\":\"d75e0d5c-6f87-45f4-94ca-79d566ccfd84\",\"type\":\"GlyphRenderer\"},{\"attributes\":{\"plot\":null,\"text\":\"\"},\"id\":\"5d677483-8fcc-404a-ba99-83c49e737d65\",\"type\":\"Title\"},{\"attributes\":{\"fill_color\":{\"value\":\"#d6604d\"},\"height\":{\"units\":\"data\",\"value\":40},\"width\":{\"units\":\"data\",\"value\":40},\"x\":{\"value\":40},\"y\":{\"value\":360}},\"id\":\"d6207ef8-b146-41f0-8ecb-22a41ac85174\",\"type\":\"Rect\"},{\"attributes\":{\"data_source\":{\"id\":\"efd9620a-801b-4ca1-bf99-37fe0ed1ac4f\",\"type\":\"ColumnDataSource\"},\"glyph\":{\"id\":\"98766190-054f-46df-874b-dd2806d6b5c0\",\"type\":\"Rect\"},\"hover_glyph\":null,\"nonselection_glyph\":null,\"selection_glyph\":null},\"id\":\"9b5e0384-76d5-459e-a8d4-b358d03d9785\",\"type\":\"GlyphRenderer\"},{\"attributes\":{\"data_source\":{\"id\":\"946d3702-011b-465d-8aa1-2da0d904cde2\",\"type\":\"ColumnDataSource\"},\"glyph\":{\"id\":\"565aae9a-304e-49e7-a451-bef007b4d02c\",\"type\":\"Rect\"},\"hover_glyph\":null,\"nonselection_glyph\":null,\"selection_glyph\":null},\"id\":\"b25afe61-7026-4bc0-9b43-1e5b7912a838\",\"type\":\"GlyphRenderer\"},{\"attributes\":{\"min_border\":0,\"outline_line_color\":{\"value\":\"#FFFFFF\"},\"plot_height\":500,\"plot_width\":100,\"renderers\":[{\"id\":\"d345475b-71ff-46f1-8b9f-e3745600555b\",\"type\":\"GlyphRenderer\"},{\"id\":\"21ab8198-a792-4836-bd1a-fe17a25bdb0a\",\"type\":\"GlyphRenderer\"},{\"id\":\"b615f190-7f96-495e-93ff-c0bf3f7d8779\",\"type\":\"GlyphRenderer\"},{\"id\":\"b5bfe8a8-242f-40ab-b4dd-5262f3a74749\",\"type\":\"GlyphRenderer\"},{\"id\":\"5eec91f6-dafb-4d30-a257-a63e614324dd\",\"type\":\"GlyphRenderer\"},{\"id\":\"d75e0d5c-6f87-45f4-94ca-79d566ccfd84\",\"type\":\"GlyphRenderer\"},{\"id\":\"968f3e16-3f8c-47ae-be20-c781e3961964\",\"type\":\"GlyphRenderer\"},{\"id\":\"9b5e0384-76d5-459e-a8d4-b358d03d9785\",\"type\":\"GlyphRenderer\"},{\"id\":\"ae2fa6f3-2d8c-403a-9a63-b356198c68bf\",\"type\":\"GlyphRenderer\"},{\"id\":\"23acca15-06a0-4dfb-9e2c-6b5fe8278a1a\",\"type\":\"GlyphRenderer\"},{\"id\":\"b25afe61-7026-4bc0-9b43-1e5b7912a838\",\"type\":\"GlyphRenderer\"},{\"id\":\"6b44671f-affb-47e7-a75c-b1a84f8b1875\",\"type\":\"GlyphRenderer\"},{\"id\":\"0711dfae-0c0c-4103-bcab-6732d50112fa\",\"type\":\"GlyphRenderer\"}],\"title\":{\"id\":\"5d677483-8fcc-404a-ba99-83c49e737d65\",\"type\":\"Title\"},\"tool_events\":{\"id\":\"bfac757f-0b62-48e1-b867-1216305dbff3\",\"type\":\"ToolEvents\"},\"toolbar\":{\"id\":\"ad1d20e7-6ccc-42d1-a585-12dd27ba72b0\",\"type\":\"Toolbar\"},\"toolbar_location\":null,\"x_range\":{\"id\":\"e88fb19b-def5-4c10-93c2-92e2a6cee50d\",\"type\":\"Range1d\"},\"y_range\":{\"id\":\"5d3544cf-088b-4eca-8733-a0331e671e5a\",\"type\":\"Range1d\"}},\"id\":\"534f17c3-a25e-4a51-9c0e-6388e97beb30\",\"type\":\"Plot\"},{\"attributes\":{\"callback\":null},\"id\":\"d9c3457d-36f2-4fbb-8baa-d8244204b1de\",\"type\":\"ColumnDataSource\"},{\"attributes\":{\"fill_color\":{\"value\":\"#fddbc7\"},\"height\":{\"units\":\"data\",\"value\":40},\"width\":{\"units\":\"data\",\"value\":40},\"x\":{\"value\":40},\"y\":{\"value\":280}},\"id\":\"ede2fb06-cbfa-431b-96fe-a1e54d4211ac\",\"type\":\"Rect\"},{\"attributes\":{\"callback\":null},\"id\":\"7ab17a83-4a1a-417b-ae6a-1552f8171cdd\",\"type\":\"ColumnDataSource\"},{\"attributes\":{\"data_source\":{\"id\":\"d9c3457d-36f2-4fbb-8baa-d8244204b1de\",\"type\":\"ColumnDataSource\"},\"glyph\":{\"id\":\"c12d3c5e-c460-408e-9a92-e63d73db8180\",\"type\":\"Rect\"},\"hover_glyph\":null,\"nonselection_glyph\":null,\"selection_glyph\":null},\"id\":\"d345475b-71ff-46f1-8b9f-e3745600555b\",\"type\":\"GlyphRenderer\"},{\"attributes\":{\"text\":{\"value\":\"-6 \\u00baC\"},\"x\":{\"value\":50},\"y\":{\"value\":0}},\"id\":\"f117c3c1-9cce-472b-921f-6d38a340eeb7\",\"type\":\"Text\"},{\"attributes\":{\"callback\":null},\"id\":\"684ce266-dcea-4c87-9413-9f2f96327ee2\",\"type\":\"ColumnDataSource\"},{\"attributes\":{\"callback\":null},\"id\":\"0444ac6b-4418-4fda-a488-df149fcebd8f\",\"type\":\"ColumnDataSource\"},{\"attributes\":{\"callback\":null},\"id\":\"026e97df-240e-4cef-abd1-aa1306aaf345\",\"type\":\"ColumnDataSource\"},{\"attributes\":{\"fill_color\":{\"value\":\"#f7f7f7\"},\"height\":{\"units\":\"data\",\"value\":40},\"width\":{\"units\":\"data\",\"value\":40},\"x\":{\"value\":40},\"y\":{\"value\":240}},\"id\":\"0dd9cfb3-7e8d-4ca9-8609-6958e217712d\",\"type\":\"Rect\"},{\"attributes\":{\"data_source\":{\"id\":\"d3969810-8c3b-45d1-9419-9b7cd644f685\",\"type\":\"ColumnDataSource\"},\"glyph\":{\"id\":\"dd584f31-6f42-403c-8a04-17ca9a09a634\",\"type\":\"Rect\"},\"hover_glyph\":null,\"nonselection_glyph\":null,\"selection_glyph\":null},\"id\":\"5eec91f6-dafb-4d30-a257-a63e614324dd\",\"type\":\"GlyphRenderer\"},{\"attributes\":{\"data_source\":{\"id\":\"684ce266-dcea-4c87-9413-9f2f96327ee2\",\"type\":\"ColumnDataSource\"},\"glyph\":{\"id\":\"1903193b-40ab-4b8f-8733-1207098c55c7\",\"type\":\"Rect\"},\"hover_glyph\":null,\"nonselection_glyph\":null,\"selection_glyph\":null},\"id\":\"b615f190-7f96-495e-93ff-c0bf3f7d8779\",\"type\":\"GlyphRenderer\"},{\"attributes\":{\"data_source\":{\"id\":\"ef59f608-3519-419b-9b27-546d8f66f741\",\"type\":\"ColumnDataSource\"},\"glyph\":{\"id\":\"2b19c8d8-f9ce-452a-a16c-33f3d78e7792\",\"type\":\"Rect\"},\"hover_glyph\":null,\"nonselection_glyph\":null,\"selection_glyph\":null},\"id\":\"b5bfe8a8-242f-40ab-b4dd-5262f3a74749\",\"type\":\"GlyphRenderer\"},{\"attributes\":{\"callback\":null},\"id\":\"efbda65c-7e1f-4b62-bc23-74c53de93395\",\"type\":\"ColumnDataSource\"},{\"attributes\":{\"text\":{\"value\":\"6 \\u00baC\"},\"x\":{\"value\":50},\"y\":{\"value\":460}},\"id\":\"9771f97f-3246-446f-a8cc-8efb5db8e417\",\"type\":\"Text\"},{\"attributes\":{\"fill_color\":{\"value\":\"#d1e5f0\"},\"height\":{\"units\":\"data\",\"value\":40},\"width\":{\"units\":\"data\",\"value\":40},\"x\":{\"value\":40},\"y\":{\"value\":200}},\"id\":\"dd584f31-6f42-403c-8a04-17ca9a09a634\",\"type\":\"Rect\"},{\"attributes\":{\"fill_color\":{\"value\":\"#4393c3\"},\"height\":{\"units\":\"data\",\"value\":40},\"width\":{\"units\":\"data\",\"value\":40},\"x\":{\"value\":40},\"y\":{\"value\":120}},\"id\":\"1903193b-40ab-4b8f-8733-1207098c55c7\",\"type\":\"Rect\"},{\"attributes\":{\"fill_color\":{\"value\":\"#053061\"},\"height\":{\"units\":\"data\",\"value\":40},\"width\":{\"units\":\"data\",\"value\":40},\"x\":{\"value\":40},\"y\":{\"value\":40}},\"id\":\"c12d3c5e-c460-408e-9a92-e63d73db8180\",\"type\":\"Rect\"},{\"attributes\":{\"fill_color\":{\"value\":\"#67001f\"},\"height\":{\"units\":\"data\",\"value\":40},\"width\":{\"units\":\"data\",\"value\":40},\"x\":{\"value\":40},\"y\":{\"value\":440}},\"id\":\"565aae9a-304e-49e7-a451-bef007b4d02c\",\"type\":\"Rect\"},{\"attributes\":{\"data_source\":{\"id\":\"efbda65c-7e1f-4b62-bc23-74c53de93395\",\"type\":\"ColumnDataSource\"},\"glyph\":{\"id\":\"f117c3c1-9cce-472b-921f-6d38a340eeb7\",\"type\":\"Text\"},\"hover_glyph\":null,\"nonselection_glyph\":null,\"selection_glyph\":null},\"id\":\"6b44671f-affb-47e7-a75c-b1a84f8b1875\",\"type\":\"GlyphRenderer\"},{\"attributes\":{\"callback\":null},\"id\":\"ef59f608-3519-419b-9b27-546d8f66f741\",\"type\":\"ColumnDataSource\"},{\"attributes\":{\"callback\":null},\"id\":\"2e7e0d93-8e37-4618-a686-088334816e22\",\"type\":\"ColumnDataSource\"},{\"attributes\":{\"fill_color\":{\"value\":\"#f4a582\"},\"height\":{\"units\":\"data\",\"value\":40},\"width\":{\"units\":\"data\",\"value\":40},\"x\":{\"value\":40},\"y\":{\"value\":320}},\"id\":\"98766190-054f-46df-874b-dd2806d6b5c0\",\"type\":\"Rect\"},{\"attributes\":{\"callback\":null},\"id\":\"946d3702-011b-465d-8aa1-2da0d904cde2\",\"type\":\"ColumnDataSource\"},{\"attributes\":{\"active_drag\":\"auto\",\"active_scroll\":\"auto\",\"active_tap\":\"auto\"},\"id\":\"ad1d20e7-6ccc-42d1-a585-12dd27ba72b0\",\"type\":\"Toolbar\"},{\"attributes\":{\"callback\":null},\"id\":\"efd9620a-801b-4ca1-bf99-37fe0ed1ac4f\",\"type\":\"ColumnDataSource\"},{\"attributes\":{\"callback\":null},\"id\":\"c5cdfacd-3ed2-4c8a-a834-7cbde2bbcfd8\",\"type\":\"ColumnDataSource\"},{\"attributes\":{\"data_source\":{\"id\":\"7ab17a83-4a1a-417b-ae6a-1552f8171cdd\",\"type\":\"ColumnDataSource\"},\"glyph\":{\"id\":\"d6207ef8-b146-41f0-8ecb-22a41ac85174\",\"type\":\"Rect\"},\"hover_glyph\":null,\"nonselection_glyph\":null,\"selection_glyph\":null},\"id\":\"ae2fa6f3-2d8c-403a-9a63-b356198c68bf\",\"type\":\"GlyphRenderer\"},{\"attributes\":{\"data_source\":{\"id\":\"c5cdfacd-3ed2-4c8a-a834-7cbde2bbcfd8\",\"type\":\"ColumnDataSource\"},\"glyph\":{\"id\":\"e0ed2f4b-5e18-4e49-89b0-0265385e4691\",\"type\":\"Rect\"},\"hover_glyph\":null,\"nonselection_glyph\":null,\"selection_glyph\":null},\"id\":\"23acca15-06a0-4dfb-9e2c-6b5fe8278a1a\",\"type\":\"GlyphRenderer\"},{\"attributes\":{\"fill_color\":{\"value\":\"#2166ac\"},\"height\":{\"units\":\"data\",\"value\":40},\"width\":{\"units\":\"data\",\"value\":40},\"x\":{\"value\":40},\"y\":{\"value\":80}},\"id\":\"2f276a90-27d5-4a15-bd5b-7c10c70ea7d3\",\"type\":\"Rect\"},{\"attributes\":{\"fill_color\":{\"value\":\"#92c5de\"},\"height\":{\"units\":\"data\",\"value\":40},\"width\":{\"units\":\"data\",\"value\":40},\"x\":{\"value\":40},\"y\":{\"value\":160}},\"id\":\"2b19c8d8-f9ce-452a-a16c-33f3d78e7792\",\"type\":\"Rect\"},{\"attributes\":{\"data_source\":{\"id\":\"026e97df-240e-4cef-abd1-aa1306aaf345\",\"type\":\"ColumnDataSource\"},\"glyph\":{\"id\":\"ede2fb06-cbfa-431b-96fe-a1e54d4211ac\",\"type\":\"Rect\"},\"hover_glyph\":null,\"nonselection_glyph\":null,\"selection_glyph\":null},\"id\":\"968f3e16-3f8c-47ae-be20-c781e3961964\",\"type\":\"GlyphRenderer\"},{\"attributes\":{\"data_source\":{\"id\":\"2e7e0d93-8e37-4618-a686-088334816e22\",\"type\":\"ColumnDataSource\"},\"glyph\":{\"id\":\"9771f97f-3246-446f-a8cc-8efb5db8e417\",\"type\":\"Text\"},\"hover_glyph\":null,\"nonselection_glyph\":null,\"selection_glyph\":null},\"id\":\"0711dfae-0c0c-4103-bcab-6732d50112fa\",\"type\":\"GlyphRenderer\"}],\"root_ids\":[\"534f17c3-a25e-4a51-9c0e-6388e97beb30\"]},\"title\":\"Bokeh Application\",\"version\":\"0.12.0\"}};\n",
       "            var render_items = [{\"docid\":\"8e3511c2-9a70-40c4-a895-f11ecf49eb59\",\"elementid\":\"e612ed61-453d-4ed6-8cef-f1c4892d4c7c\",\"modelid\":\"534f17c3-a25e-4a51-9c0e-6388e97beb30\",\"notebook_comms_target\":\"520fea77-d55d-485b-b0ad-cf1417a52fa2\"}];\n",
       "            \n",
       "            Bokeh.embed.embed_items(docs_json, render_items);\n",
       "        });\n",
       "      },\n",
       "      function(Bokeh) {\n",
       "      }\n",
       "    ];\n",
       "  \n",
       "    function run_inline_js() {\n",
       "      for (var i = 0; i < inline_js.length; i++) {\n",
       "        inline_js[i](window.Bokeh);\n",
       "      }\n",
       "    }\n",
       "  \n",
       "    if (window._bokeh_is_loading === 0) {\n",
       "      console.log(\"Bokeh: BokehJS loaded, going straight to plotting\");\n",
       "      run_inline_js();\n",
       "    } else {\n",
       "      load_libs(js_urls, function() {\n",
       "        console.log(\"Bokeh: BokehJS plotting callback run at\", now());\n",
       "        run_inline_js();\n",
       "      });\n",
       "    }\n",
       "  }(this));\n",
       "</script>"
      ]
     },
     "metadata": {},
     "output_type": "display_data"
    },
    {
     "data": {
      "text/html": [
       "<p><code>&lt;Bokeh Notebook handle for <strong>In[9]</strong>&gt;</code></p>"
      ],
      "text/plain": [
       "<bokeh.io._CommsHandle at 0x7f856eee00d0>"
      ]
     },
     "execution_count": 9,
     "metadata": {},
     "output_type": "execute_result"
    }
   ],
   "source": [
    "# Show plot\n",
    "show(plot)"
   ]
  },
  {
   "cell_type": "code",
   "execution_count": null,
   "metadata": {
    "collapsed": true
   },
   "outputs": [],
   "source": []
  }
 ],
 "metadata": {
  "kernelspec": {
   "display_name": "Python [conda env:py2]",
   "language": "python",
   "name": "conda-env-py2-py"
  },
  "language_info": {
   "codemirror_mode": {
    "name": "ipython",
    "version": 2
   },
   "file_extension": ".py",
   "mimetype": "text/x-python",
   "name": "python",
   "nbconvert_exporter": "python",
   "pygments_lexer": "ipython2",
   "version": "2.7.12"
  }
 },
 "nbformat": 4,
 "nbformat_minor": 0
}
